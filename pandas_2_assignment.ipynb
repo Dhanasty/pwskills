{
 "cells": [
  {
   "cell_type": "markdown",
   "id": "90407eee-18af-41f9-8cbf-15c15ddf75ee",
   "metadata": {},
   "source": [
    "Five Pandas Functions  \n",
    "tail(), head(), dtype(), to_csv(), read_csv()"
   ]
  },
  {
   "cell_type": "code",
   "execution_count": 1,
   "id": "c2f45ad4-4463-4405-bd49-7d8572e6f81b",
   "metadata": {},
   "outputs": [],
   "source": [
    "import pandas as pd"
   ]
  },
  {
   "cell_type": "code",
   "execution_count": 29,
   "id": "fb7cb6c6-29b9-46d5-a906-bbc3bb4ea88f",
   "metadata": {},
   "outputs": [],
   "source": [
    "df = pd.DataFrame({'text':[\"hello\",\"he lds\",\"sdfs sdsdf vdsdsd\"]})"
   ]
  },
  {
   "cell_type": "code",
   "execution_count": 22,
   "id": "9723760b-3378-4147-9372-dabd6e68d205",
   "metadata": {},
   "outputs": [],
   "source": [
    "type(df['text'][0:3])\n",
    "df['word_count'] = 0"
   ]
  },
  {
   "cell_type": "code",
   "execution_count": 25,
   "id": "7c54fa38-7458-4b63-9431-94b164c0435e",
   "metadata": {},
   "outputs": [
    {
     "name": "stdout",
     "output_type": "stream",
     "text": [
      "<class 'str'>\n",
      "<class 'str'>\n",
      "<class 'str'>\n"
     ]
    },
    {
     "name": "stderr",
     "output_type": "stream",
     "text": [
      "/tmp/ipykernel_102/3661601528.py:3: SettingWithCopyWarning: \n",
      "A value is trying to be set on a copy of a slice from a DataFrame\n",
      "\n",
      "See the caveats in the documentation: https://pandas.pydata.org/pandas-docs/stable/user_guide/indexing.html#returning-a-view-versus-a-copy\n",
      "  df['word_count'][index] = len(df['text'][index].split(\" \"))\n"
     ]
    }
   ],
   "source": [
    "for index,value in df['text'].items():\n",
    "    \n",
    "    df['word_count'][index] = len(df['text'][index].split(\" \"))"
   ]
  },
  {
   "cell_type": "code",
   "execution_count": 33,
   "id": "22911334-57a0-4b7d-bab4-48859e7e122c",
   "metadata": {},
   "outputs": [
    {
     "data": {
      "text/plain": [
       "(3, 1)"
      ]
     },
     "execution_count": 33,
     "metadata": {},
     "output_type": "execute_result"
    }
   ],
   "source": [
    "df.size\n",
    "# Size only gives the no of rows"
   ]
  },
  {
   "cell_type": "code",
   "execution_count": 35,
   "id": "798fb7ee-bf71-485b-9b6e-ff6b00a3b67f",
   "metadata": {},
   "outputs": [
    {
     "data": {
      "text/plain": [
       "(3, 1)"
      ]
     },
     "execution_count": 35,
     "metadata": {},
     "output_type": "execute_result"
    }
   ],
   "source": [
    "df.shape\n",
    "# shape gives both no of rows and columns"
   ]
  },
  {
   "cell_type": "code",
   "execution_count": 37,
   "id": "0b09974f-463b-4851-bbf8-c48e4226ebb6",
   "metadata": {},
   "outputs": [],
   "source": [
    "#we can read Excel file Using\n",
    "#pd.read_excel(\"sample.xlsx\")"
   ]
  },
  {
   "cell_type": "code",
   "execution_count": 39,
   "id": "000df834-26fe-4422-ad46-deaac47e8796",
   "metadata": {},
   "outputs": [],
   "source": [
    "df = pd.DataFrame({'email':[\"dhanasty@gmail.com\",\"hey@mail.com\",\"python@mail.com\"]})\n",
    "df['username'] = \"\""
   ]
  },
  {
   "cell_type": "code",
   "execution_count": 41,
   "id": "073830fe-f579-4252-8476-dd0c7c2b9eee",
   "metadata": {},
   "outputs": [],
   "source": [
    "for index,values in df['email'].items():\n",
    "    us = df['email'][index].split(\"@\")\n",
    "    df['username'][index] = us[0] "
   ]
  },
  {
   "cell_type": "code",
   "execution_count": 42,
   "id": "81a936fa-1fc7-4408-a23f-d84d9071d232",
   "metadata": {},
   "outputs": [
    {
     "data": {
      "text/html": [
       "<div>\n",
       "<style scoped>\n",
       "    .dataframe tbody tr th:only-of-type {\n",
       "        vertical-align: middle;\n",
       "    }\n",
       "\n",
       "    .dataframe tbody tr th {\n",
       "        vertical-align: top;\n",
       "    }\n",
       "\n",
       "    .dataframe thead th {\n",
       "        text-align: right;\n",
       "    }\n",
       "</style>\n",
       "<table border=\"1\" class=\"dataframe\">\n",
       "  <thead>\n",
       "    <tr style=\"text-align: right;\">\n",
       "      <th></th>\n",
       "      <th>email</th>\n",
       "      <th>username</th>\n",
       "    </tr>\n",
       "  </thead>\n",
       "  <tbody>\n",
       "    <tr>\n",
       "      <th>0</th>\n",
       "      <td>dhanasty@gmail.com</td>\n",
       "      <td>dhanasty</td>\n",
       "    </tr>\n",
       "    <tr>\n",
       "      <th>1</th>\n",
       "      <td>hey@mail.com</td>\n",
       "      <td>hey</td>\n",
       "    </tr>\n",
       "    <tr>\n",
       "      <th>2</th>\n",
       "      <td>python@mail.com</td>\n",
       "      <td>python</td>\n",
       "    </tr>\n",
       "  </tbody>\n",
       "</table>\n",
       "</div>"
      ],
      "text/plain": [
       "                email  username\n",
       "0  dhanasty@gmail.com  dhanasty\n",
       "1        hey@mail.com       hey\n",
       "2     python@mail.com    python"
      ]
     },
     "execution_count": 42,
     "metadata": {},
     "output_type": "execute_result"
    }
   ],
   "source": [
    "df"
   ]
  },
  {
   "cell_type": "code",
   "execution_count": 44,
   "id": "8a6c5cfb-b85d-4b40-b5be-2000022f40a1",
   "metadata": {},
   "outputs": [],
   "source": [
    "df = pd.DataFrame({\"A\":[3,8,6,2,9],\"B\":[5,2,9,3,1],\"C\":[1,7,4,5,2]})"
   ]
  },
  {
   "cell_type": "code",
   "execution_count": 46,
   "id": "3c8dd398-9271-4ebc-9305-101dc55c3763",
   "metadata": {},
   "outputs": [
    {
     "data": {
      "text/html": [
       "<div>\n",
       "<style scoped>\n",
       "    .dataframe tbody tr th:only-of-type {\n",
       "        vertical-align: middle;\n",
       "    }\n",
       "\n",
       "    .dataframe tbody tr th {\n",
       "        vertical-align: top;\n",
       "    }\n",
       "\n",
       "    .dataframe thead th {\n",
       "        text-align: right;\n",
       "    }\n",
       "</style>\n",
       "<table border=\"1\" class=\"dataframe\">\n",
       "  <thead>\n",
       "    <tr style=\"text-align: right;\">\n",
       "      <th></th>\n",
       "      <th>A</th>\n",
       "      <th>B</th>\n",
       "      <th>C</th>\n",
       "    </tr>\n",
       "  </thead>\n",
       "  <tbody>\n",
       "    <tr>\n",
       "      <th>1</th>\n",
       "      <td>8</td>\n",
       "      <td>2</td>\n",
       "      <td>7</td>\n",
       "    </tr>\n",
       "    <tr>\n",
       "      <th>2</th>\n",
       "      <td>6</td>\n",
       "      <td>9</td>\n",
       "      <td>4</td>\n",
       "    </tr>\n",
       "    <tr>\n",
       "      <th>4</th>\n",
       "      <td>9</td>\n",
       "      <td>1</td>\n",
       "      <td>2</td>\n",
       "    </tr>\n",
       "  </tbody>\n",
       "</table>\n",
       "</div>"
      ],
      "text/plain": [
       "   A  B  C\n",
       "1  8  2  7\n",
       "2  6  9  4\n",
       "4  9  1  2"
      ]
     },
     "execution_count": 46,
     "metadata": {},
     "output_type": "execute_result"
    }
   ],
   "source": [
    "df[(df['A'] > 5) & (df['B'] < 10)]"
   ]
  },
  {
   "cell_type": "code",
   "execution_count": 47,
   "id": "2227cbc4-f5fd-403c-b92f-5f779ac6510d",
   "metadata": {},
   "outputs": [],
   "source": [
    "df = pd.DataFrame({\"values\":[23,56,5,32,5,3,5,3,5,4,32,59,8,3]})"
   ]
  },
  {
   "cell_type": "code",
   "execution_count": 49,
   "id": "50f4b4ca-5e12-49b1-b3eb-6bb86c16020f",
   "metadata": {},
   "outputs": [
    {
     "data": {
      "text/plain": [
       "19.96769368777454"
      ]
     },
     "execution_count": 49,
     "metadata": {},
     "output_type": "execute_result"
    }
   ],
   "source": [
    "df['values'].std()"
   ]
  },
  {
   "cell_type": "code",
   "execution_count": 50,
   "id": "cdc8e85d-cf75-428e-ae5c-1749b4dcabdb",
   "metadata": {},
   "outputs": [
    {
     "data": {
      "text/plain": [
       "17.357142857142858"
      ]
     },
     "execution_count": 50,
     "metadata": {},
     "output_type": "execute_result"
    }
   ],
   "source": [
    "df['values'].mean()"
   ]
  },
  {
   "cell_type": "code",
   "execution_count": 51,
   "id": "27ba1196-4962-4a8e-ac02-4af6949e5009",
   "metadata": {},
   "outputs": [
    {
     "data": {
      "text/plain": [
       "5.0"
      ]
     },
     "execution_count": 51,
     "metadata": {},
     "output_type": "execute_result"
    }
   ],
   "source": [
    "df['values'].median()"
   ]
  },
  {
   "cell_type": "code",
   "execution_count": 59,
   "id": "4ae954cb-1511-47af-8215-8a7d445b2bc7",
   "metadata": {},
   "outputs": [],
   "source": [
    "df = pd.DataFrame({\n",
    "    'Sales': [100, 150, 200, 180, 220, 300, 250, 320, 280, 350],\n",
    "    'Date': ['2023-07-01', '2023-07-02', '2023-07-03', '2023-07-04', '2023-07-05',\n",
    "             '2023-07-06', '2023-07-07', '2023-07-08', '2023-07-09', '2023-07-10']\n",
    "})"
   ]
  },
  {
   "cell_type": "code",
   "execution_count": 60,
   "id": "771ea3ed-98cf-4517-a654-21738ff23310",
   "metadata": {},
   "outputs": [],
   "source": [
    "df['moving_average'] = 0"
   ]
  },
  {
   "cell_type": "code",
   "execution_count": 65,
   "id": "6fad6fa6-16ae-4880-bf32-626a2ea760bd",
   "metadata": {},
   "outputs": [
    {
     "name": "stderr",
     "output_type": "stream",
     "text": [
      "/tmp/ipykernel_102/777688349.py:4: SettingWithCopyWarning: \n",
      "A value is trying to be set on a copy of a slice from a DataFrame\n",
      "\n",
      "See the caveats in the documentation: https://pandas.pydata.org/pandas-docs/stable/user_guide/indexing.html#returning-a-view-versus-a-copy\n",
      "  df['moving_average'][index] = sum/7\n"
     ]
    }
   ],
   "source": [
    "sum =0 \n",
    "for index,values in df['Sales'].items():\n",
    "    sum += values\n",
    "    df['moving_average'][index] = sum/7\n",
    "    "
   ]
  },
  {
   "cell_type": "code",
   "execution_count": null,
   "id": "8b1fc43e-587e-40bc-816e-c6c580879b9a",
   "metadata": {},
   "outputs": [],
   "source": [
    "df = pd.DataFrame({\n",
    "    \n",
    "    'Date': ['2023-07-01', '2023-07-02', '2023-07-03', '2023-07-04', '2023-07-05',\n",
    "             '2023-07-06', '2023-07-07', '2023-07-08', '2023-07-09', '2023-07-10']\n",
    "})"
   ]
  },
  {
   "cell_type": "code",
   "execution_count": null,
   "id": "61d20114-9ab3-482f-ac25-544054357c9f",
   "metadata": {},
   "outputs": [],
   "source": [
    "df['Weekday'] = 0"
   ]
  },
  {
   "cell_type": "code",
   "execution_count": 1,
   "id": "721c9392-8fdb-4679-8ae4-0321b454dfb8",
   "metadata": {},
   "outputs": [],
   "source": [
    "from datetime import datetime\n"
   ]
  },
  {
   "cell_type": "code",
   "execution_count": 2,
   "id": "f6da7e1d-ebfd-47a2-bfff-6d585bfa8646",
   "metadata": {},
   "outputs": [],
   "source": [
    "date = '2023-07-01'\n",
    "born = datetime.strptime(date, '%Y-%m-%d').weekday()\n",
    "import calendar"
   ]
  },
  {
   "cell_type": "code",
   "execution_count": 5,
   "id": "d9638c7a-7cd3-453b-a27c-28bc59178111",
   "metadata": {},
   "outputs": [
    {
     "data": {
      "text/plain": [
       "5"
      ]
     },
     "execution_count": 5,
     "metadata": {},
     "output_type": "execute_result"
    }
   ],
   "source": [
    "born"
   ]
  },
  {
   "cell_type": "code",
   "execution_count": null,
   "id": "3fe63027-4fe9-4a1b-879c-8d49f984cb60",
   "metadata": {},
   "outputs": [],
   "source": []
  }
 ],
 "metadata": {
  "kernelspec": {
   "display_name": "Python 3 (ipykernel)",
   "language": "python",
   "name": "python3"
  },
  "language_info": {
   "codemirror_mode": {
    "name": "ipython",
    "version": 3
   },
   "file_extension": ".py",
   "mimetype": "text/x-python",
   "name": "python",
   "nbconvert_exporter": "python",
   "pygments_lexer": "ipython3",
   "version": "3.10.8"
  }
 },
 "nbformat": 4,
 "nbformat_minor": 5
}
