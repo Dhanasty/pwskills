{
 "cells": [
  {
   "cell_type": "code",
   "execution_count": 1,
   "id": "542a3990-54e8-4e79-989a-ce2df78f4fd4",
   "metadata": {},
   "outputs": [],
   "source": [
    "import pandas as pd"
   ]
  },
  {
   "cell_type": "code",
   "execution_count": 2,
   "id": "e6badf02-cdfe-45a9-b03c-0c0c03e4eceb",
   "metadata": {},
   "outputs": [],
   "source": [
    "x = pd.Series([4,8,15,16,23,42,65,23,12,25])"
   ]
  },
  {
   "cell_type": "code",
   "execution_count": 3,
   "id": "d851900c-3b69-45f3-8729-2501db813f35",
   "metadata": {},
   "outputs": [
    {
     "data": {
      "text/plain": [
       "0     4\n",
       "1     8\n",
       "2    15\n",
       "3    16\n",
       "4    23\n",
       "5    42\n",
       "dtype: int64"
      ]
     },
     "execution_count": 3,
     "metadata": {},
     "output_type": "execute_result"
    }
   ],
   "source": [
    "x"
   ]
  },
  {
   "cell_type": "code",
   "execution_count": 4,
   "id": "9aa8a508-c12d-4929-97fe-8b55344a83da",
   "metadata": {},
   "outputs": [],
   "source": [
    "x = [4,8,15,16,23,42,65,23,12,25]"
   ]
  },
  {
   "cell_type": "code",
   "execution_count": 5,
   "id": "59a120cf-fae4-4ddd-85ec-03f4ef0d7446",
   "metadata": {},
   "outputs": [
    {
     "data": {
      "text/plain": [
       "0     4\n",
       "1     8\n",
       "2    15\n",
       "3    16\n",
       "4    23\n",
       "5    42\n",
       "6    65\n",
       "7    23\n",
       "8    12\n",
       "9    25\n",
       "dtype: int64"
      ]
     },
     "execution_count": 5,
     "metadata": {},
     "output_type": "execute_result"
    }
   ],
   "source": [
    "pd.Series(x)"
   ]
  },
  {
   "cell_type": "code",
   "execution_count": 7,
   "id": "e4338661-02c2-4cc7-b673-926c6b3ab78a",
   "metadata": {},
   "outputs": [],
   "source": [
    "data = {'Name':[\"alice\",\"bob\",\"claire\"],\n",
    "        'Age':[25,30,27],\n",
    "        'Gender':[\"female\",\"male\",\"female\"]}"
   ]
  },
  {
   "cell_type": "code",
   "execution_count": 8,
   "id": "d41be053-bf09-46e3-a1a8-a339b4995068",
   "metadata": {},
   "outputs": [
    {
     "data": {
      "text/html": [
       "<div>\n",
       "<style scoped>\n",
       "    .dataframe tbody tr th:only-of-type {\n",
       "        vertical-align: middle;\n",
       "    }\n",
       "\n",
       "    .dataframe tbody tr th {\n",
       "        vertical-align: top;\n",
       "    }\n",
       "\n",
       "    .dataframe thead th {\n",
       "        text-align: right;\n",
       "    }\n",
       "</style>\n",
       "<table border=\"1\" class=\"dataframe\">\n",
       "  <thead>\n",
       "    <tr style=\"text-align: right;\">\n",
       "      <th></th>\n",
       "      <th>Name</th>\n",
       "      <th>Age</th>\n",
       "      <th>Gender</th>\n",
       "    </tr>\n",
       "  </thead>\n",
       "  <tbody>\n",
       "    <tr>\n",
       "      <th>0</th>\n",
       "      <td>alice</td>\n",
       "      <td>25</td>\n",
       "      <td>female</td>\n",
       "    </tr>\n",
       "    <tr>\n",
       "      <th>1</th>\n",
       "      <td>bob</td>\n",
       "      <td>30</td>\n",
       "      <td>male</td>\n",
       "    </tr>\n",
       "    <tr>\n",
       "      <th>2</th>\n",
       "      <td>claire</td>\n",
       "      <td>27</td>\n",
       "      <td>female</td>\n",
       "    </tr>\n",
       "  </tbody>\n",
       "</table>\n",
       "</div>"
      ],
      "text/plain": [
       "     Name  Age  Gender\n",
       "0   alice   25  female\n",
       "1     bob   30    male\n",
       "2  claire   27  female"
      ]
     },
     "execution_count": 8,
     "metadata": {},
     "output_type": "execute_result"
    }
   ],
   "source": [
    "pd.DataFrame(data)"
   ]
  },
  {
   "cell_type": "markdown",
   "id": "dc5a1b1d-73ff-4d04-aab4-87be3d2ea39d",
   "metadata": {},
   "source": [
    "What is Data Frame?  \n",
    "Data frame organizes 2D data into rows and columns  \n",
    "-Series is known as single column but dataframe is made up of multiple columns"
   ]
  },
  {
   "cell_type": "markdown",
   "id": "e71d58b7-fbbc-42d9-9cd7-f2f30ef0a702",
   "metadata": {},
   "source": [
    "Some of the common functions are tail(), head(), dtype()  \n",
    "head() displays the first 10 rows the dataframe"
   ]
  },
  {
   "cell_type": "markdown",
   "id": "9688495f-beee-4ba9-9321-0c0b7a84d85b",
   "metadata": {},
   "source": [
    "Which of the following is mutable in nature Series, DataFrame, Panel?  \n",
    "Dataframe and Panel are mutable"
   ]
  },
  {
   "cell_type": "markdown",
   "id": "e9b73b38-e2e2-47c8-aea2-c24c373160ba",
   "metadata": {},
   "source": [
    "Q7. Create a DataFrame using multiple Series. Explain with an example.  "
   ]
  },
  {
   "cell_type": "code",
   "execution_count": 10,
   "id": "fc021951-7642-4311-ae17-4e7488ede748",
   "metadata": {},
   "outputs": [],
   "source": [
    "x= pd.Series([1,2,4])\n",
    "y = pd.Series([5,6,8])"
   ]
  },
  {
   "cell_type": "code",
   "execution_count": 11,
   "id": "933f1202-ffb0-40aa-8eaf-d4338ccb44b9",
   "metadata": {},
   "outputs": [
    {
     "data": {
      "text/html": [
       "<div>\n",
       "<style scoped>\n",
       "    .dataframe tbody tr th:only-of-type {\n",
       "        vertical-align: middle;\n",
       "    }\n",
       "\n",
       "    .dataframe tbody tr th {\n",
       "        vertical-align: top;\n",
       "    }\n",
       "\n",
       "    .dataframe thead th {\n",
       "        text-align: right;\n",
       "    }\n",
       "</style>\n",
       "<table border=\"1\" class=\"dataframe\">\n",
       "  <thead>\n",
       "    <tr style=\"text-align: right;\">\n",
       "      <th></th>\n",
       "      <th>0</th>\n",
       "    </tr>\n",
       "  </thead>\n",
       "  <tbody>\n",
       "    <tr>\n",
       "      <th>5</th>\n",
       "      <td>NaN</td>\n",
       "    </tr>\n",
       "    <tr>\n",
       "      <th>6</th>\n",
       "      <td>NaN</td>\n",
       "    </tr>\n",
       "    <tr>\n",
       "      <th>8</th>\n",
       "      <td>NaN</td>\n",
       "    </tr>\n",
       "  </tbody>\n",
       "</table>\n",
       "</div>"
      ],
      "text/plain": [
       "    0\n",
       "5 NaN\n",
       "6 NaN\n",
       "8 NaN"
      ]
     },
     "execution_count": 11,
     "metadata": {},
     "output_type": "execute_result"
    }
   ],
   "source": [
    "pd.DataFrame(x,y)"
   ]
  },
  {
   "cell_type": "code",
   "execution_count": null,
   "id": "2b92648a-e9ea-4f39-8fd7-b98285ca72a9",
   "metadata": {},
   "outputs": [],
   "source": []
  }
 ],
 "metadata": {
  "kernelspec": {
   "display_name": "Python 3 (ipykernel)",
   "language": "python",
   "name": "python3"
  },
  "language_info": {
   "codemirror_mode": {
    "name": "ipython",
    "version": 3
   },
   "file_extension": ".py",
   "mimetype": "text/x-python",
   "name": "python",
   "nbconvert_exporter": "python",
   "pygments_lexer": "ipython3",
   "version": "3.10.8"
  }
 },
 "nbformat": 4,
 "nbformat_minor": 5
}
